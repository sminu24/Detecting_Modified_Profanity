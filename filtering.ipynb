{
 "cells": [
  {
   "cell_type": "code",
   "execution_count": null,
   "id": "ddef0a05",
   "metadata": {},
   "outputs": [],
   "source": [
    "from datasets import load_dataset\n",
    "import pandas as pd\n",
    "from tqdm import tqdm\n",
    "tqdm.pandas()\n",
    "from IPython.display import clear_output\n"
   ]
  },
  {
   "cell_type": "code",
   "execution_count": null,
   "id": "ecc9662c",
   "metadata": {},
   "outputs": [],
   "source": [
    "gpt = pd.read_excel('new_aug_gpt.xlsx')\n",
    "gpt= gpt[['content','labels','words']]\n",
    "gpt"
   ]
  },
  {
   "cell_type": "code",
   "execution_count": null,
   "id": "9dd1ee5a",
   "metadata": {},
   "outputs": [],
   "source": [
    "filtered_gpt = pd.DataFrame(columns=gpt.columns)\n",
    "filtered_gpt"
   ]
  },
  {
   "cell_type": "code",
   "execution_count": null,
   "id": "768562d1",
   "metadata": {},
   "outputs": [],
   "source": [
    "count,epoch = 0,0\n",
    "for idx,example in gpt[epoch:].iterrows():\n",
    "    epoch+=1\n",
    "    print(f\"{epoch} : {count}\")\n",
    "    for word,label in zip(eval(example['words']),eval(example['labels'])):\n",
    "        print(word,label)\n",
    "    if input()=='o':\n",
    "        filtered_gpt = filtered_gpt.append(example)\n",
    "        count+=1\n",
    "        \n",
    "    if count==300:\n",
    "        break\n",
    "    \n",
    "    clear_output()\n",
    "\n",
    "filtered_gpt"
   ]
  },
  {
   "cell_type": "code",
   "execution_count": null,
   "id": "1c7a3814",
   "metadata": {},
   "outputs": [],
   "source": [
    "filtered_gpt"
   ]
  },
  {
   "cell_type": "code",
   "execution_count": null,
   "id": "a40b03fb",
   "metadata": {},
   "outputs": [],
   "source": [
    "filtered_gpt.to_excel('filtered_gpt_300.xlsx')"
   ]
  }
 ],
 "metadata": {
  "kernelspec": {
   "display_name": "Python 3 (ipykernel)",
   "language": "python",
   "name": "python3"
  },
  "language_info": {
   "codemirror_mode": {
    "name": "ipython",
    "version": 3
   },
   "file_extension": ".py",
   "mimetype": "text/x-python",
   "name": "python",
   "nbconvert_exporter": "python",
   "pygments_lexer": "ipython3",
   "version": "3.10.9"
  }
 },
 "nbformat": 4,
 "nbformat_minor": 5
}
